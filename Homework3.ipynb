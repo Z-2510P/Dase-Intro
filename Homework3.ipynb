{
 "cells": [
  {
   "cell_type": "markdown",
   "metadata": {},
   "source": [
    "1.编写 Python程序,判断输入a是否为质数"
   ]
  },
  {
   "cell_type": "code",
   "execution_count": null,
   "metadata": {},
   "outputs": [],
   "source": [
    "# 判断质数的函数\n",
    "def is_prime(a):\n",
    "    if a <= 1:\n",
    "        return False\n",
    "    for i in range(2, int(a ** 0.5) + 1):\n",
    "        if a % i == 0:\n",
    "            return False\n",
    "    return True\n",
    "\n",
    "# 用户输入\n",
    "a = int(input(\"请输入一个数字: \"))\n",
    "\n",
    "# 判断是否为质数并输出结果\n",
    "if is_prime(a):\n",
    "    print(f\"{a} 是质数\")\n",
    "else:\n",
    "    print(f\"{a} 不是质数\")\n"
   ]
  },
  {
   "cell_type": "markdown",
   "metadata": {},
   "source": [
    "2.用Python实现插入排序该算法，不允许直接调用插入排序函数，需要手动实现其逻辑过程。"
   ]
  },
  {
   "cell_type": "code",
   "execution_count": 1,
   "metadata": {},
   "outputs": [
    {
     "name": "stdout",
     "output_type": "stream",
     "text": [
      "排序前： [12, 11, 13, 5, 6]\n",
      "排序后： [5, 6, 11, 12, 13]\n"
     ]
    }
   ],
   "source": [
    "# 插入排序的函数实现\n",
    "def insertion_sort(arr):\n",
    "    # 从第二个元素开始，因为第一个元素默认是已排序好的\n",
    "    for i in range(1, len(arr)):\n",
    "        key = arr[i]\n",
    "        j = i - 1\n",
    "        \n",
    "        # 移动比key大的元素，给key腾出位置\n",
    "        while j >= 0 and arr[j] > key:\n",
    "            arr[j + 1] = arr[j]\n",
    "            j -= 1\n",
    "        \n",
    "        # 将key插入到正确的位置\n",
    "        arr[j + 1] = key\n",
    "\n",
    "# 测试数组\n",
    "arr = [12, 11, 13, 5, 6]\n",
    "\n",
    "print(\"排序前：\", arr)\n",
    "insertion_sort(arr)\n",
    "print(\"排序后：\", arr)\n"
   ]
  },
  {
   "cell_type": "markdown",
   "metadata": {},
   "source": [
    "3.用Python实现选择排序该算法，不允许直接调用选择排序函数，需要手动实现其逻辑过程。"
   ]
  },
  {
   "cell_type": "code",
   "execution_count": null,
   "metadata": {},
   "outputs": [],
   "source": [
    "    # 选择排序的函数实现\n",
    "def selection_sort(arr):\n",
    "    # 遍历数组的每一个元素\n",
    "    for i in range(len(arr)):\n",
    "        # 假设当前的元素是最小的\n",
    "        min_idx = i\n",
    "        # 找到剩余未排序部分中最小的元素\n",
    "        for j in range(i+1, len(arr)):\n",
    "            if arr[j] < arr[min_idx]:\n",
    "                min_idx = j\n",
    "        \n",
    "        # 交换当前元素和找到的最小元素\n",
    "        arr[i], arr[min_idx] = arr[min_idx], arr[i]\n",
    "\n",
    "# 测试数组\n",
    "arr = [64, 25, 12, 22, 11]\n",
    "\n",
    "print(\"排序前：\", arr)\n",
    "selection_sort(arr)\n",
    "print(\"排序后：\", arr)\n"
   ]
  },
  {
   "cell_type": "markdown",
   "metadata": {},
   "source": [
    "4.用Python实现快速排序该算法，不允许直接调用快速排序函数，需要手动实现其逻辑过程。"
   ]
  },
  {
   "cell_type": "code",
   "execution_count": null,
   "metadata": {},
   "outputs": [],
   "source": [
    "# 快速排序的函数实现\n",
    "def quick_sort(arr):\n",
    "    # 基本条件：如果数组长度小于等于1，直接返回\n",
    "    if len(arr) <= 1:\n",
    "        return arr\n",
    "    else:\n",
    "        # 选择一个基准元素（通常选择第一个元素）\n",
    "        pivot = arr[0]\n",
    "        # 将数组分为三个部分：小于基准的部分、等于基准的部分、大于基准的部分\n",
    "        less = [x for x in arr[1:] if x <= pivot]\n",
    "        greater = [x for x in arr[1:] if x > pivot]\n",
    "        # 递归地对左右两部分排序，并返回合并结果\n",
    "        return quick_sort(less) + [pivot] + quick_sort(greater)\n",
    "\n",
    "# 测试数组\n",
    "arr = [10, 7, 8, 9, 1, 5]\n",
    "\n",
    "print(\"排序前：\", arr)\n",
    "sorted_arr = quick_sort(arr)\n",
    "print(\"排序后：\", sorted_arr)\n"
   ]
  },
  {
   "cell_type": "markdown",
   "metadata": {},
   "source": [
    "5.使用 Python 随机生成三组长度递增的随机数列，长度分别为100、1000、10000，对生成的随机数组使用不同的排序算法，例如选择排序和归并排序，至少三种排序方法。对这些数列的数据排序，并分析不同排序算法在不同长度数列下的运行效果，例如运行时间等指标。（可以使用排序函数）"
   ]
  },
  {
   "cell_type": "code",
   "execution_count": 2,
   "metadata": {},
   "outputs": [
    {
     "name": "stdout",
     "output_type": "stream",
     "text": [
      "\n",
      "数组长度：100\n",
      "选择排序 排序用时: 0.00000 秒\n",
      "归并排序 排序用时: 0.00000 秒\n",
      "快速排序 排序用时: 0.00000 秒\n",
      "Python内置排序 排序用时: 0.00000 秒\n",
      "\n",
      "数组长度：1000\n",
      "选择排序 排序用时: 0.01635 秒\n",
      "归并排序 排序用时: 0.00000 秒\n",
      "快速排序 排序用时: 0.00000 秒\n",
      "Python内置排序 排序用时: 0.00000 秒\n",
      "\n",
      "数组长度：10000\n",
      "选择排序 排序用时: 2.08791 秒\n",
      "归并排序 排序用时: 0.02423 秒\n",
      "快速排序 排序用时: 0.01732 秒\n",
      "Python内置排序 排序用时: 0.00000 秒\n"
     ]
    }
   ],
   "source": [
    "import random\n",
    "import time\n",
    "\n",
    "# 选择排序实现\n",
    "def selection_sort(arr):\n",
    "    for i in range(len(arr)):\n",
    "        min_idx = i\n",
    "        for j in range(i + 1, len(arr)):\n",
    "            if arr[j] < arr[min_idx]:\n",
    "                min_idx = j\n",
    "        arr[i], arr[min_idx] = arr[min_idx], arr[i]\n",
    "    return arr\n",
    "\n",
    "# 归并排序实现\n",
    "def merge_sort(arr):\n",
    "    if len(arr) <= 1:\n",
    "        return arr\n",
    "    mid = len(arr) // 2\n",
    "    left = merge_sort(arr[:mid])\n",
    "    right = merge_sort(arr[mid:])\n",
    "    return merge(left, right)\n",
    "\n",
    "def merge(left, right):\n",
    "    result = []\n",
    "    i = j = 0\n",
    "    while i < len(left) and j < len(right):\n",
    "        if left[i] < right[j]:\n",
    "            result.append(left[i])\n",
    "            i += 1\n",
    "        else:\n",
    "            result.append(right[j])\n",
    "            j += 1\n",
    "    result.extend(left[i:])\n",
    "    result.extend(right[j:])\n",
    "    return result\n",
    "\n",
    "# 快速排序实现\n",
    "def quick_sort(arr):\n",
    "    if len(arr) <= 1:\n",
    "        return arr\n",
    "    pivot = arr[0]\n",
    "    less = [x for x in arr[1:] if x <= pivot]\n",
    "    greater = [x for x in arr[1:] if x > pivot]\n",
    "    return quick_sort(less) + [pivot] + quick_sort(greater)\n",
    "\n",
    "# 测试排序算法并记录时间的函数\n",
    "def test_sorting_algorithms(arr, algorithm_name, sort_func):\n",
    "    start_time = time.time()\n",
    "    sorted_arr = sort_func(arr.copy())\n",
    "    end_time = time.time()\n",
    "    elapsed_time = end_time - start_time\n",
    "    print(f\"{algorithm_name} 排序用时: {elapsed_time:.5f} 秒\")\n",
    "    return elapsed_time\n",
    "\n",
    "# 生成随机数列\n",
    "arr_100 = random.sample(range(1, 1000), 100)\n",
    "arr_1000 = random.sample(range(1, 10000), 1000)\n",
    "arr_10000 = random.sample(range(1, 100000), 10000)\n",
    "\n",
    "# 测试不同长度的数组，分别用选择排序、归并排序、快速排序和Python内置的sorted()\n",
    "for arr, length in zip([arr_100, arr_1000, arr_10000], [100, 1000, 10000]):\n",
    "    print(f\"\\n数组长度：{length}\")\n",
    "    \n",
    "    # 选择排序\n",
    "    test_sorting_algorithms(arr, \"选择排序\", selection_sort)\n",
    "    \n",
    "    # 归并排序\n",
    "    test_sorting_algorithms(arr, \"归并排序\", merge_sort)\n",
    "    \n",
    "    # 快速排序\n",
    "    test_sorting_algorithms(arr, \"快速排序\", quick_sort)\n",
    "    \n",
    "    # Python 内置排序\n",
    "    test_sorting_algorithms(arr, \"Python内置排序\", sorted)\n"
   ]
  },
  {
   "cell_type": "markdown",
   "metadata": {},
   "source": [
    "6.使用python代码获取当前系统时间"
   ]
  },
  {
   "cell_type": "code",
   "execution_count": 3,
   "metadata": {},
   "outputs": [
    {
     "name": "stdout",
     "output_type": "stream",
     "text": [
      "当前系统时间： 2024-10-17 18:00:26.749540\n"
     ]
    }
   ],
   "source": [
    "import datetime\n",
    "\n",
    "# 获取当前系统时间\n",
    "current_time = datetime.datetime.now()\n",
    "\n",
    "# 打印当前时间\n",
    "print(\"当前系统时间：\", current_time)\n"
   ]
  },
  {
   "cell_type": "markdown",
   "metadata": {},
   "source": [
    "7.Homework/data文件夹下的stuGrade.csv文件中包含5位同学的学号、语文成绩、数学成绩和英语成绩，请先用记事本打开该文件，查看文件内容，然后编写Python程序，读取该文件，并计算出各科的平均成绩（保留2位小数）。"
   ]
  },
  {
   "cell_type": "code",
   "execution_count": 1,
   "metadata": {},
   "outputs": [
    {
     "name": "stdout",
     "output_type": "stream",
     "text": [
      "stuID      10383.0\n",
      "chinese       82.6\n",
      "math          81.0\n",
      "english       81.8\n",
      "dtype: float64\n"
     ]
    }
   ],
   "source": [
    "import pandas as pd\n",
    "\n",
    "# 读取 CSV 文件\n",
    "file_path = 'stuGrade.csv'\n",
    "data = pd.read_csv(file_path)\n",
    "\n",
    "# 计算各科的平均成绩\n",
    "average_scores = data.mean()\n",
    "\n",
    "# 保留两位小数并打印\n",
    "average_scores = average_scores.round(2)\n",
    "print(average_scores)\n"
   ]
  },
  {
   "cell_type": "markdown",
   "metadata": {},
   "source": [
    "8.请在第7题的代码继续编写Python程序，将以下内容写入my.txt文件中，一并上传到github中。\n",
    "\n",
    "    第1行：你的学号和姓名\n",
    "\n",
    "    第2行：3门课程的平均成绩（任意课程），保留2位小数，以英文逗号间隔\n",
    "\n",
    "    第3行：系统当前时间，格式例如2020-01-01 12:00:00\n",
    "\n",
    "    第4行：两秒后的系统当前时间（利用sleep()方法）"
   ]
  },
  {
   "cell_type": "code",
   "execution_count": 4,
   "metadata": {},
   "outputs": [
    {
     "name": "stdout",
     "output_type": "stream",
     "text": [
      "内容已写入 my.txt 文件\n"
     ]
    }
   ],
   "source": [
    "import pandas as pd\n",
    "from datetime import datetime\n",
    "import time\n",
    "\n",
    "# 读取 CSV 文件\n",
    "file_path = 'stuGrade.csv'\n",
    "data = pd.read_csv(file_path)\n",
    "\n",
    "# 计算各科的平均成绩\n",
    "average_scores = data.mean().round(2)\n",
    "\n",
    "# 提取任意课程的平均成绩\n",
    "average_chinese = average_scores['chinese']\n",
    "average_math = average_scores['math']\n",
    "average_english = average_scores['english']\n",
    "\n",
    "# 获取系统当前时间\n",
    "current_time = datetime.now().strftime('%Y-%m-%d %H:%M:%S')\n",
    "\n",
    "# 等待2秒\n",
    "time.sleep(2)\n",
    "\n",
    "# 获取两秒后的系统时间\n",
    "future_time = datetime.now().strftime('%Y-%m-%d %H:%M:%S')\n",
    "\n",
    "# 写入到 my.txt 文件\n",
    "with open('my.txt', 'w', encoding='utf-8') as f:\n",
    "    f.write(\"学号: 10235501444, 姓名: 朱钇霖\\n\") \n",
    "    f.write(f\"{average_chinese},{average_math},{average_english}\\n\")\n",
    "    f.write(f\"{current_time}\\n\")\n",
    "    f.write(f\"{future_time}\\n\")\n",
    "\n",
    "print(\"内容已写入 my.txt 文件\")\n"
   ]
  }
 ],
 "metadata": {
  "kernelspec": {
   "display_name": "Python 3",
   "language": "python",
   "name": "python3"
  },
  "language_info": {
   "codemirror_mode": {
    "name": "ipython",
    "version": 3
   },
   "file_extension": ".py",
   "mimetype": "text/x-python",
   "name": "python",
   "nbconvert_exporter": "python",
   "pygments_lexer": "ipython3",
   "version": "3.10.11"
  }
 },
 "nbformat": 4,
 "nbformat_minor": 2
}
