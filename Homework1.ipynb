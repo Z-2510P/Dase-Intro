{
 "cells": [
  {
   "cell_type": "markdown",
   "metadata": {},
   "source": [
    "1. 编写Python程序，打印\"数据科学与工程导论\"，并使用 print(chr(0x2605)) 语句将这句话包围起来。"
   ]
  },
  {
   "cell_type": "code",
   "execution_count": 3,
   "metadata": {},
   "outputs": [
    {
     "name": "stdout",
     "output_type": "stream",
     "text": [
      "★数据科学与工程导论★\n"
     ]
    }
   ],
   "source": [
    "message = \"数据科学与工程导论\"\n",
    "print(chr(0x2605) + message + chr(0x2605))"
   ]
  },
  {
   "cell_type": "markdown",
   "metadata": {},
   "source": [
    "2. 写一个 Python 程序，输入 x, y, z 这三个数，将这三个数从小到大使用 print 函数打印出来。"
   ]
  },
  {
   "cell_type": "code",
   "execution_count": 5,
   "metadata": {},
   "outputs": [
    {
     "name": "stdout",
     "output_type": "stream",
     "text": [
      "排序后的结果是: [2, 3, 4]\n"
     ]
    }
   ],
   "source": [
    "x = int(input(\"请输入第一个数: \"))\n",
    "y = int(input(\"请输入第二个数: \"))\n",
    "z = int(input(\"请输入第三个数: \"))\n",
    "\n",
    "numbers = [x, y, z]\n",
    "numbers.sort()\n",
    "\n",
    "print(numbers)\n"
   ]
  },
  {
   "cell_type": "markdown",
   "metadata": {},
   "source": [
    "3. 写一个 Python 程序，有 w, x, y, z 四个数，将这四个数从大到小使用 print 函数打印出来。"
   ]
  },
  {
   "cell_type": "code",
   "execution_count": 14,
   "metadata": {},
   "outputs": [
    {
     "name": "stdout",
     "output_type": "stream",
     "text": [
      "[6, 4, 2, 2]\n"
     ]
    }
   ],
   "source": [
    "w = int(input(\"请输入第一个数: \"))\n",
    "x = int(input(\"请输入第二个数: \"))\n",
    "y = int(input(\"请输入第三个数: \"))\n",
    "z = int(input(\"请输入第四个数: \"))\n",
    "\n",
    "\n",
    "numbers = [w, x, y, z]\n",
    "numbers.sort(reverse=True)\n",
    "\n",
    "print(numbers)\n"
   ]
  },
  {
   "cell_type": "markdown",
   "metadata": {},
   "source": [
    "4. 写一个 Python 程序，输出 1-100 中的所有奇数。"
   ]
  },
  {
   "cell_type": "code",
   "execution_count": 15,
   "metadata": {},
   "outputs": [
    {
     "name": "stdout",
     "output_type": "stream",
     "text": [
      "1\n",
      "3\n",
      "5\n",
      "7\n",
      "9\n",
      "11\n",
      "13\n",
      "15\n",
      "17\n",
      "19\n",
      "21\n",
      "23\n",
      "25\n",
      "27\n",
      "29\n",
      "31\n",
      "33\n",
      "35\n",
      "37\n",
      "39\n",
      "41\n",
      "43\n",
      "45\n",
      "47\n",
      "49\n",
      "51\n",
      "53\n",
      "55\n",
      "57\n",
      "59\n",
      "61\n",
      "63\n",
      "65\n",
      "67\n",
      "69\n",
      "71\n",
      "73\n",
      "75\n",
      "77\n",
      "79\n",
      "81\n",
      "83\n",
      "85\n",
      "87\n",
      "89\n",
      "91\n",
      "93\n",
      "95\n",
      "97\n",
      "99\n"
     ]
    }
   ],
   "source": [
    "for i in range(1, 101):\n",
    "    if i % 2 != 0:\n",
    "        print(i)\n"
   ]
  },
  {
   "cell_type": "markdown",
   "metadata": {},
   "source": [
    "5. 写一个 Python 程序，用 for 循环，求解 1 到 100 的和。"
   ]
  },
  {
   "cell_type": "code",
   "execution_count": 16,
   "metadata": {},
   "outputs": [
    {
     "name": "stdout",
     "output_type": "stream",
     "text": [
      "5050\n"
     ]
    }
   ],
   "source": [
    "total_sum = 0\n",
    "for i in range(1, 101):\n",
    "    total_sum += i\n",
    "\n",
    "print(total_sum)\n"
   ]
  },
  {
   "cell_type": "markdown",
   "metadata": {},
   "source": [
    "6. 写一个 Python 程序，分别用 for 和 while 循环实现对一个给定序列的倒排序输出。例如，给定 L=[1,2,3,4,5]，输出为 [5,4,3,2,1]。"
   ]
  },
  {
   "cell_type": "code",
   "execution_count": 17,
   "metadata": {},
   "outputs": [
    {
     "name": "stdout",
     "output_type": "stream",
     "text": [
      "[5, 4, 3, 2, 1]\n"
     ]
    }
   ],
   "source": [
    "\n",
    "L = [1, 2, 3, 4, 5]\n",
    "\n",
    "reversed_list = []\n",
    "\n",
    "for i in range(len(L) - 1, -1, -1):\n",
    "    reversed_list.append(L[i])\n",
    "\n",
    "print(reversed_list)\n"
   ]
  },
  {
   "cell_type": "markdown",
   "metadata": {},
   "source": [
    "7. 写一个 Python 程序，判断一个输入的字符串 S 是否包含由两个或两个以上连续出现的相同字符组成的字符串。例如，abccccda 中就包含 cccc 这个由 4 个连续字符组成的字符串。"
   ]
  },
  {
   "cell_type": "code",
   "execution_count": 18,
   "metadata": {},
   "outputs": [
    {
     "name": "stdout",
     "output_type": "stream",
     "text": [
      "字符串 'abccccda' 是否包含两个或两个以上连续出现的相同字符: True\n"
     ]
    }
   ],
   "source": [
    "def has_consecutive_chars(s):\n",
    "    # 初始化计数器和前一个字符变量\n",
    "    count = 1\n",
    "    prev_char = s[0]\n",
    "\n",
    "    # 遍历字符串的每个字符\n",
    "    for char in s[1:]:\n",
    "        if char == prev_char:\n",
    "            count += 1\n",
    "            if count >= 2:\n",
    "                return True\n",
    "        else:\n",
    "            count = 1\n",
    "        prev_char = char\n",
    "\n",
    "    return False\n",
    "\n",
    "S = \"abccccda\"\n",
    "result = has_consecutive_chars(S)\n",
    "print(f\"字符串 '{S}' 是否包含两个或两个以上连续出现的相同字符: {result}\")\n"
   ]
  },
  {
   "cell_type": "markdown",
   "metadata": {},
   "source": [
    "8. 写一个 Python 程序，输入一个字符串 S，去掉其中所有的空格后输出。例如，“DataScience and Engineering”，去掉空格后为“DataScienceandEngineering”。"
   ]
  },
  {
   "cell_type": "code",
   "execution_count": 19,
   "metadata": {},
   "outputs": [
    {
     "name": "stdout",
     "output_type": "stream",
     "text": [
      "DataScienceandEngineering\n"
     ]
    }
   ],
   "source": [
    "def remove_spaces(s):\n",
    "    # 使用 replace() 方法将所有空格替换为空字符串\n",
    "    return s.replace(\" \", \"\")\n",
    "\n",
    "# 测试示例\n",
    "S = \"DataScience and Engineering\"\n",
    "result = remove_spaces(S)\n",
    "print(f\"{result}\")\n"
   ]
  },
  {
   "cell_type": "markdown",
   "metadata": {},
   "source": [
    "9. 请设计一个求 3 次方根的算法（不允许直接调用求方根的函数），并给出对应的 Python 程序。\n",
    "采用牛顿迭代法求解，迭代过程数学公式表示为：\n",
    "$ x_{n+1}=x_n-\\frac{f(x_n)}{f^{\\prime}(x_n)}$"
   ]
  },
  {
   "cell_type": "code",
   "execution_count": 21,
   "metadata": {},
   "outputs": [
    {
     "name": "stdout",
     "output_type": "stream",
     "text": [
      "27 的 3 次方根是: 3.0\n"
     ]
    }
   ],
   "source": [
    "def cube_root_newton(a, tolerance=1e-7, max_iterations=1000):\n",
    "    # 初始猜测值\n",
    "    x = a if a >= 1 else 1.0\n",
    "    \n",
    "    for _ in range(max_iterations):\n",
    "        # 计算函数值和导数值\n",
    "        fx = x**3 - a\n",
    "        f_prime_x = 3 * x**2\n",
    "        \n",
    "        # 计算下一次迭代的值\n",
    "        x_next = x - fx / f_prime_x\n",
    "        \n",
    "        # 检查是否满足误差阈值\n",
    "        if abs(x_next - x) < tolerance:\n",
    "            return x_next\n",
    "        \n",
    "        x = x_next\n",
    "    \n",
    "    # 如果达到最大迭代次数仍未收敛，返回最后的结果\n",
    "    return x\n",
    "\n",
    "# 测试\n",
    "a = 27\n",
    "result = cube_root_newton(a)\n",
    "print(f\"{a} 的 3 次方根是: {result}\")\n"
   ]
  },
  {
   "cell_type": "markdown",
   "metadata": {},
   "source": [
    "10. 写一个 Python 程序，给定一个常数 n（n>0），求 n 的阶乘，即 n!=1×2×...×(n-1)×n。例如，4!=24，5!=120。"
   ]
  },
  {
   "cell_type": "code",
   "execution_count": 22,
   "metadata": {},
   "outputs": [
    {
     "name": "stdout",
     "output_type": "stream",
     "text": [
      "5! = 120\n"
     ]
    }
   ],
   "source": [
    "def factorial(n):\n",
    "    # 初始化阶乘结果为 1\n",
    "    result = 1\n",
    "    \n",
    "    # 使用循环计算阶乘\n",
    "    for i in range(1, n + 1):\n",
    "        result *= i\n",
    "    \n",
    "    return result\n",
    "\n",
    "# 测试\n",
    "n = 5\n",
    "print(f\"{n}! = {factorial(n)}\")\n"
   ]
  }
 ],
 "metadata": {
  "kernelspec": {
   "display_name": "Python 3",
   "language": "python",
   "name": "python3"
  },
  "language_info": {
   "codemirror_mode": {
    "name": "ipython",
    "version": 3
   },
   "file_extension": ".py",
   "mimetype": "text/x-python",
   "name": "python",
   "nbconvert_exporter": "python",
   "pygments_lexer": "ipython3",
   "version": "3.10.11"
  }
 },
 "nbformat": 4,
 "nbformat_minor": 2
}
